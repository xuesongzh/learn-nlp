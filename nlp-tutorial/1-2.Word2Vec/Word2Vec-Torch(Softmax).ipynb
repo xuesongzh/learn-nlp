{
  "nbformat": 4,
  "nbformat_minor": 0,
  "metadata": {
    "colab": {
      "name": "“Word2Vec-Torch(Softmax).ipynb”的副本",
      "provenance": [],
      "collapsed_sections": []
    },
    "kernelspec": {
      "name": "python3",
      "display_name": "Python 3"
    },
    "accelerator": "GPU"
  },
  "cells": [
    {
      "cell_type": "code",
      "metadata": {
        "id": "bqUKpxrLsDdp",
        "colab_type": "code",
        "colab": {}
      },
      "source": [
        "'''\n",
        "  code by Tae Hwan Jung(Jeff Jung) @graykode, modify by wmathor\n",
        "'''\n",
        "import torch\n",
        "import numpy as np\n",
        "import torch.nn as nn\n",
        "import torch.optim as optimizer\n",
        "import torch.utils.data as Data\n",
        "\n",
        "device = torch.device(\"cuda\" if torch.cuda.is_available() else \"cpu\")\n",
        "dtype = torch.FloatTensor"
      ],
      "execution_count": null,
      "outputs": []
    },
    {
      "cell_type": "code",
      "metadata": {
        "id": "OteNgpGiuIAL",
        "colab_type": "code",
        "colab": {}
      },
      "source": [
        "sentences = [\"jack like dog\", \"jack like cat\", \"jack like animal\",\n",
        "  \"dog cat animal\", \"banana apple cat dog like\", \"dog fish milk like\",\n",
        "  \"dog cat animal like\", \"jack like apple\", \"apple like\", \"jack like banana\",\n",
        "  \"apple banana jack movie book music like\", \"cat dog hate\", \"cat dog like\"]\n",
        "sentence_list = \" \".join(sentences).split() # ['jack', 'like', 'dog']\n",
        "vocab = list(set(sentence_list))\n",
        "word2idx = {w:i for i, w in enumerate(vocab)}\n",
        "vocab_size = len(vocab)"
      ],
      "execution_count": null,
      "outputs": []
    },
    {
      "cell_type": "code",
      "metadata": {
        "id": "qP95fgZduiQ5",
        "colab_type": "code",
        "colab": {}
      },
      "source": [
        "# model parameters\n",
        "C = 2 # window size\n",
        "batch_size = 8\n",
        "m = 2 # word embedding dim"
      ],
      "execution_count": null,
      "outputs": []
    },
    {
      "cell_type": "code",
      "metadata": {
        "id": "fpvih6WlvFib",
        "colab_type": "code",
        "colab": {}
      },
      "source": [
        "skip_grams = []\n",
        "for idx in range(C, len(sentence_list) - C):\n",
        "  center = word2idx[sentence_list[idx]]\n",
        "  context_idx = list(range(idx - C, idx)) + list(range(idx + 1, idx + C + 1))\n",
        "  context = [word2idx[sentence_list[i]] for i in context_idx]\n",
        "\n",
        "  for w in context:\n",
        "    skip_grams.append([center, w])"
      ],
      "execution_count": null,
      "outputs": []
    },
    {
      "cell_type": "code",
      "metadata": {
        "id": "fSG4Hox3wv0b",
        "colab_type": "code",
        "colab": {}
      },
      "source": [
        "def make_data(skip_grams):\n",
        "  input_data = []\n",
        "  output_data = []\n",
        "  for a, b in skip_grams:\n",
        "    input_data.append(np.eye(vocab_size)[a])\n",
        "    output_data.append(b)\n",
        "  return input_data, output_data"
      ],
      "execution_count": null,
      "outputs": []
    },
    {
      "cell_type": "code",
      "metadata": {
        "id": "SNGvrTT2xmyE",
        "colab_type": "code",
        "colab": {}
      },
      "source": [
        "input_data, output_data = make_data(skip_grams)\n",
        "input_data, output_data = torch.Tensor(input_data), torch.LongTensor(output_data)\n",
        "dataset = Data.TensorDataset(input_data, output_data)\n",
        "loader = Data.DataLoader(dataset, batch_size, True)"
      ],
      "execution_count": null,
      "outputs": []
    },
    {
      "cell_type": "code",
      "metadata": {
        "id": "W6YsUmxzx3SZ",
        "colab_type": "code",
        "colab": {}
      },
      "source": [
        "class Word2Vec(nn.Module):\n",
        "  def __init__(self):\n",
        "    super(Word2Vec, self).__init__()\n",
        "    self.W = nn.Parameter(torch.randn(vocab_size, m).type(dtype))\n",
        "    self.V = nn.Parameter(torch.randn(m, vocab_size).type(dtype))\n",
        "\n",
        "  def forward(self, X):\n",
        "    # X : [batch_size, vocab_size]\n",
        "    hidden = torch.mm(X, self.W) # [batch_size, m]\n",
        "    output = torch.mm(hidden, self.V) # [batch_size, vocab_size]\n",
        "    return output"
      ],
      "execution_count": null,
      "outputs": []
    },
    {
      "cell_type": "code",
      "metadata": {
        "id": "qTrVrbNsy0bN",
        "colab_type": "code",
        "colab": {}
      },
      "source": [
        "model = Word2Vec().to(device)\n",
        "loss_fn = nn.CrossEntropyLoss().to(device)\n",
        "optim = optimizer.Adam(model.parameters(), lr=1e-3)"
      ],
      "execution_count": null,
      "outputs": []
    },
    {
      "cell_type": "code",
      "metadata": {
        "id": "zDcjLp7Ty2Qs",
        "colab_type": "code",
        "colab": {
          "base_uri": "https://localhost:8080/",
          "height": 722
        },
        "outputId": "bfda288b-08e2-42fc-9753-19657c7d097b"
      },
      "source": [
        "for epoch in range(2000):\n",
        "  for i, (batch_x, batch_y) in enumerate(loader):\n",
        "    batch_x = batch_x.to(device)\n",
        "    batch_y = batch_y.to(device)\n",
        "    pred = model(batch_x)\n",
        "    loss = loss_fn(pred, batch_y)\n",
        "\n",
        "    if (epoch + 1) % 1000 == 0:\n",
        "      print(epoch + 1, i, loss.item())\n",
        "    \n",
        "    optim.zero_grad()\n",
        "    loss.backward()\n",
        "    optim.step()"
      ],
      "execution_count": null,
      "outputs": [
        {
          "output_type": "stream",
          "text": [
            "1000 0 2.0227136611938477\n",
            "1000 1 2.3798117637634277\n",
            "1000 2 2.391190528869629\n",
            "1000 3 2.285754680633545\n",
            "1000 4 1.9063193798065186\n",
            "1000 5 1.9651578664779663\n",
            "1000 6 1.8772828578948975\n",
            "1000 7 1.8816274404525757\n",
            "1000 8 2.006587028503418\n",
            "1000 9 2.313750982284546\n",
            "1000 10 1.9250341653823853\n",
            "1000 11 2.076404094696045\n",
            "1000 12 1.854898452758789\n",
            "1000 13 2.043060779571533\n",
            "1000 14 2.341153621673584\n",
            "1000 15 2.0698914527893066\n",
            "1000 16 1.57113778591156\n",
            "1000 17 2.1810097694396973\n",
            "1000 18 2.5944101810455322\n",
            "1000 19 2.2469565868377686\n",
            "1000 20 1.7212722301483154\n",
            "2000 0 1.816986083984375\n",
            "2000 1 2.1669414043426514\n",
            "2000 2 1.9809743165969849\n",
            "2000 3 2.0651090145111084\n",
            "2000 4 1.9306294918060303\n",
            "2000 5 1.8891253471374512\n",
            "2000 6 1.9777374267578125\n",
            "2000 7 2.491191864013672\n",
            "2000 8 2.0507924556732178\n",
            "2000 9 1.9459185600280762\n",
            "2000 10 1.6109706163406372\n",
            "2000 11 1.9266815185546875\n",
            "2000 12 2.2067410945892334\n",
            "2000 13 1.9121506214141846\n",
            "2000 14 2.201719045639038\n",
            "2000 15 2.2587637901306152\n",
            "2000 16 1.8647295236587524\n",
            "2000 17 2.351783275604248\n",
            "2000 18 2.361424207687378\n",
            "2000 19 2.099379301071167\n",
            "2000 20 2.117107391357422\n"
          ],
          "name": "stdout"
        }
      ]
    },
    {
      "cell_type": "code",
      "metadata": {
        "id": "9vT14L_izbWC",
        "colab_type": "code",
        "colab": {
          "base_uri": "https://localhost:8080/",
          "height": 267
        },
        "outputId": "fdb89ebf-dabe-4516-caa9-976e0ec4ac4c"
      },
      "source": [
        "import matplotlib.pyplot as plt\n",
        "for i, label in enumerate(vocab):\n",
        "  W, WT = model.parameters()\n",
        "  x,y = float(W[i][0]), float(W[i][1])\n",
        "  plt.scatter(x, y)\n",
        "  plt.annotate(label, xy=(x, y), xytext=(5, 2), textcoords='offset points', ha='right', va='bottom')\n",
        "plt.show()"
      ],
      "execution_count": null,
      "outputs": [
        {
          "output_type": "display_data",
          "data": {
            "image/png": "[encoded data removed]",
            "text/plain": [
              "<Figure size 432x288 with 1 Axes>"
            ]
          },
          "metadata": {
            "tags": [],
            "needs_background": "light"
          }
        }
      ]
    },
    {
      "cell_type": "code",
      "metadata": {
        "id": "D_5Cauheztue",
        "colab_type": "code",
        "colab": {}
      },
      "source": [
        ""
      ],
      "execution_count": null,
      "outputs": []
    }
  ]
}